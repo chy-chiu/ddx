{
 "cells": [
  {
   "cell_type": "code",
   "execution_count": 7,
   "metadata": {},
   "outputs": [],
   "source": [
    "from sonar.inference_pipelines.text import TextToEmbeddingModelPipeline, EmbeddingToTextModelPipeline"
   ]
  },
  {
   "cell_type": "code",
   "execution_count": 3,
   "metadata": {},
   "outputs": [],
   "source": [
    "t2vec_model = TextToEmbeddingModelPipeline(encoder=\"text_sonar_basic_encoder\",\n",
    "                                           tokenizer=\"text_sonar_basic_encoder\")\n"
   ]
  },
  {
   "cell_type": "code",
   "execution_count": 43,
   "metadata": {},
   "outputs": [
    {
     "name": "stdout",
     "output_type": "stream",
     "text": [
      "torch.Size([2, 1024])\n"
     ]
    }
   ],
   "source": [
    "sentences = ['Patient has heart failure', 'Patient has a heart attack']\n",
    "embeddings = t2vec_model.predict(sentences, source_lang=\"eng_Latn\")\n",
    "print(embeddings.shape)\n",
    "# torch.Size([2, 1024])"
   ]
  },
  {
   "cell_type": "code",
   "execution_count": 8,
   "metadata": {},
   "outputs": [
    {
     "data": {
      "text/plain": [
       "tensor([[-0.0003, -0.0071,  0.0076,  ...,  0.0055,  0.0022, -0.0083]])"
      ]
     },
     "execution_count": 8,
     "metadata": {},
     "output_type": "execute_result"
    }
   ],
   "source": [
    "embeddings[1:]"
   ]
  },
  {
   "cell_type": "code",
   "execution_count": 10,
   "metadata": {},
   "outputs": [],
   "source": [
    "v2text_model = EmbeddingToTextModelPipeline(decoder=\"text_sonar_basic_decoder\",\n",
    "                                           tokenizer=\"text_sonar_basic_decoder\")"
   ]
  },
  {
   "cell_type": "code",
   "execution_count": null,
   "metadata": {},
   "outputs": [
    {
     "data": {
      "text/plain": [
       "['I can embed the sentences into vector space.']"
      ]
     },
     "execution_count": 13,
     "metadata": {},
     "output_type": "execute_result"
    }
   ],
   "source": [
    "v2text_model.predict(embeddings[1:], target_lang=\"eng_Latn\")"
   ]
  },
  {
   "cell_type": "code",
   "execution_count": 56,
   "metadata": {},
   "outputs": [],
   "source": [
    "import torch\n",
    "import numpy as np\n"
   ]
  },
  {
   "cell_type": "code",
   "execution_count": null,
   "metadata": {},
   "outputs": [
    {
     "data": {
      "text/plain": [
       "tensor([[-0.0090,  0.0135,  0.0013,  ...,  0.0115,  0.0024, -0.0022],\n",
       "        [ 0.0223,  0.0257,  0.0158,  ...,  0.0125, -0.0075, -0.0101]])"
      ]
     },
     "execution_count": 65,
     "metadata": {},
     "output_type": "execute_result"
    }
   ],
   "source": []
  },
  {
   "cell_type": "code",
   "execution_count": 66,
   "metadata": {},
   "outputs": [
    {
     "data": {
      "text/plain": [
       "tensor([[ 0.0252,  0.0007,  0.0239,  ...,  0.0376,  0.0625, -0.0064],\n",
       "        [ 0.0797,  0.0241, -0.0499,  ...,  0.0305, -0.0382,  0.0090]])"
      ]
     },
     "execution_count": 66,
     "metadata": {},
     "output_type": "execute_result"
    }
   ],
   "source": [
    "embeddings"
   ]
  },
  {
   "cell_type": "code",
   "execution_count": 75,
   "metadata": {},
   "outputs": [
    {
     "name": "stdout",
     "output_type": "stream",
     "text": [
      "torch.Size([1, 1024])\n"
     ]
    }
   ],
   "source": [
    "sentences = [\"\"\"History of Present Illness:\n",
    "Ms. ___ is an ___ year old female who was admitted to ___ \n",
    "in ___ after a syncopal fall while shopping. She sustained \n",
    "T3 & T6 vertebral fractures. She underwent an extensive workup \n",
    "during her admission, and brain imaging revealed an incidental \n",
    "2.4 x 1.5 cm left internal carotid aneurysm arising at the \n",
    "bifurcation of the posterior communicating artery. She follow-ed \n",
    "up with Dr. ___ in outpatient clinic, at which time it was \n",
    "determined that she will undergo elective pipeline embolization \n",
    "of aneurysm at left internal carotid/left posterior \n",
    "communicating artery bifurcation.\"\"\"]\n",
    "embeddings = t2vec_model.predict(sentences, source_lang=\"eng_Latn\")\n",
    "print(embeddings.shape)\n",
    "# torch.Size([2, 1024])\n"
   ]
  },
  {
   "cell_type": "code",
   "execution_count": 76,
   "metadata": {},
   "outputs": [
    {
     "data": {
      "text/plain": [
       "tensor([[ 0.0161, -0.0092,  0.0024,  ..., -0.0074, -0.0075, -0.0166]])"
      ]
     },
     "execution_count": 76,
     "metadata": {},
     "output_type": "execute_result"
    }
   ],
   "source": [
    "embeddings"
   ]
  },
  {
   "cell_type": "code",
   "execution_count": 77,
   "metadata": {},
   "outputs": [
    {
     "data": {
      "text/plain": [
       "[\"History of the disease: Ms. _______ is a 2-year-old girl who was admitted to the hospital during an accidental drowning after joining and joining _______. She underwent T3 and T6 fractures during her admission, and during her admission she underwent extensive brain imaging, which revealed a 2.4 x 1.5 cm lateral left ventricular aneurysm of the left ventricular aneurysm that occurred during admission. She was followed by surgery at the doctor's clinic. She was advised that she would undergo an internal/external ventricular aneurysm of the left ventricular aneurysm during admission.\"]"
      ]
     },
     "execution_count": 77,
     "metadata": {},
     "output_type": "execute_result"
    }
   ],
   "source": [
    "v2text_model.predict(embeddings, target_lang=\"eng_Latn\")"
   ]
  },
  {
   "cell_type": "code",
   "execution_count": 70,
   "metadata": {},
   "outputs": [
    {
     "data": {
      "text/plain": [
       "['How can a sentence be long a sentence can be a sentence can be a sentence can be a sentence can be a sentence can be a sentence can be a sentence can be a sentence can be a sentence']"
      ]
     },
     "execution_count": 70,
     "metadata": {},
     "output_type": "execute_result"
    }
   ],
   "source": [
    "embeddings = embeddings + torch.Tensor(np.random.normal(0, 0.01, embeddings.shape))\n",
    "v2text_model.predict(embeddings, target_lang=\"eng_Latn\")"
   ]
  },
  {
   "cell_type": "code",
   "execution_count": null,
   "metadata": {},
   "outputs": [],
   "source": []
  }
 ],
 "metadata": {
  "kernelspec": {
   "display_name": ".venv",
   "language": "python",
   "name": "python3"
  },
  "language_info": {
   "codemirror_mode": {
    "name": "ipython",
    "version": 3
   },
   "file_extension": ".py",
   "mimetype": "text/x-python",
   "name": "python",
   "nbconvert_exporter": "python",
   "pygments_lexer": "ipython3",
   "version": "3.11.6"
  }
 },
 "nbformat": 4,
 "nbformat_minor": 2
}
