{
 "cells": [
  {
   "cell_type": "code",
   "execution_count": 6,
   "metadata": {},
   "outputs": [],
   "source": [
    "# Import necessary libraries\n",
    "import numpy as np\n",
    "import matplotlib.pyplot as plt\n",
    "import networkx as nx\n",
    "from scipy.stats import expon, norm\n",
    "import numpy as np\n"
   ]
  },
  {
   "cell_type": "code",
   "execution_count": 1,
   "metadata": {},
   "outputs": [],
   "source": [
    "# State durations (in days)\n",
    "state_durations = {\n",
    "    'Symptoms': lambda: np.random.exponential(scale=2),     # Average 2 days before seeing a doctor\n",
    "    'PrimaryCare': lambda: np.random.normal(loc=1, scale=0.5),  # Average 1 day for consultation\n",
    "    'WatchWait': lambda: np.random.uniform(30, 180),        # Between 1 to 6 months\n",
    "    'ChestXRay': lambda: np.random.normal(loc=7, scale=2),  # Average 7 days to get imaging\n",
    "    'NoduleDetected': lambda: np.random.normal(loc=1, scale=0.5), # Immediate progression\n",
    "    'Biopsy': lambda: np.random.normal(loc=14, scale=3),    # Average 2 weeks for biopsy\n",
    "    'Diagnosis': lambda: 0,                                 # Terminal state, no additional time\n",
    "    'LostFollowUp': lambda: 0                               # Terminal state, no additional time\n",
    "}\n"
   ]
  },
  {
   "cell_type": "code",
   "execution_count": 3,
   "metadata": {},
   "outputs": [
    {
     "name": "stdout",
     "output_type": "stream",
     "text": [
      "State Indices: {'Symptoms': 0, 'PrimaryCare': 1, 'WatchWait': 2, 'ChestXRay': 3, 'NoduleDetected': 4, 'Biopsy': 5, 'Diagnosis': 6, 'LostFollowUp': 7}\n"
     ]
    }
   ],
   "source": [
    "# States\n",
    "states = ['Symptoms', 'PrimaryCare', 'WatchWait', 'ChestXRay', 'NoduleDetected', 'Biopsy', 'Diagnosis', 'LostFollowUp']\n",
    "state_indices = {state: idx for idx, state in enumerate(states)}\n",
    "num_states = len(states)\n",
    "print(\"State Indices:\", state_indices)\n"
   ]
  },
  {
   "cell_type": "code",
   "execution_count": 4,
   "metadata": {},
   "outputs": [],
   "source": [
    "def simulate_patient_journey_with_time(A, B, start_state, max_steps=20):\n",
    "    current_state = start_state\n",
    "    states_visited = [current_state]\n",
    "    observations_made = []\n",
    "    time_spent = []\n",
    "    total_time = 0\n",
    "    \n",
    "    for _ in range(max_steps):\n",
    "        # Generate observation\n",
    "        obs_probs = B[current_state]\n",
    "        observation = np.random.choice(range(num_states), p=obs_probs)\n",
    "        observations_made.append(observation)\n",
    "        \n",
    "        # Add time spent in current state\n",
    "        duration = state_durations[states[current_state]]()\n",
    "        duration = max(0, duration)  # Ensure non-negative time\n",
    "        time_spent.append(duration)\n",
    "        total_time += duration\n",
    "        \n",
    "        # Check if current state is absorbing\n",
    "        if A[current_state, current_state] == 1.0:\n",
    "            break  # Absorbing state reached\n",
    "        \n",
    "        # Transition to next state\n",
    "        trans_probs = A[current_state]\n",
    "        next_state = np.random.choice(range(num_states), p=trans_probs)\n",
    "        states_visited.append(next_state)\n",
    "        current_state = next_state\n",
    "        \n",
    "    return states_visited, observations_made, time_spent, total_time\n"
   ]
  },
  {
   "cell_type": "code",
   "execution_count": 7,
   "metadata": {},
   "outputs": [],
   "source": [
    "# Initialize transition matrix with zeros\n",
    "A = np.zeros((num_states, num_states))\n",
    "\n",
    "# Define transitions\n",
    "# From Symptoms\n",
    "A[state_indices['Symptoms'], state_indices['PrimaryCare']] = 0.8  # 80% see a doctor\n",
    "A[state_indices['Symptoms'], state_indices['LostFollowUp']] = 0.2  # 20% do not seek care and are lost\n",
    "\n",
    "# From PrimaryCare\n",
    "A[state_indices['PrimaryCare'], state_indices['WatchWait']] = 0.6  # 60% cases are watchful waiting\n",
    "A[state_indices['PrimaryCare'], state_indices['ChestXRay']] = 0.4  # 40% proceed to imaging\n",
    "\n",
    "# From WatchWait\n",
    "A[state_indices['WatchWait'], state_indices['ChestXRay']] = 0.3   # 30% eventually get imaging\n",
    "A[state_indices['WatchWait'], state_indices['LostFollowUp']] = 0.5  # 50% are lost to follow-up\n",
    "A[state_indices['WatchWait'], state_indices['WatchWait']] = 0.2    # 20% remain in watchful waiting\n",
    "\n",
    "# From ChestXRay\n",
    "A[state_indices['ChestXRay'], state_indices['NoduleDetected']] = 0.7  # 70% detect nodules\n",
    "A[state_indices['ChestXRay'], state_indices['WatchWait']] = 0.2      # 20% return to watchful waiting\n",
    "A[state_indices['ChestXRay'], state_indices['LostFollowUp']] = 0.1   # 10% are lost to follow-up\n",
    "\n",
    "# From NoduleDetected\n",
    "A[state_indices['NoduleDetected'], state_indices['Biopsy']] = 0.9  # 90% proceed to biopsy\n",
    "A[state_indices['NoduleDetected'], state_indices['LostFollowUp']] = 0.1  # 10% are lost to follow-up\n",
    "\n",
    "# From Biopsy\n",
    "A[state_indices['Biopsy'], state_indices['Diagnosis']] = 0.8  # 80% are diagnosed with cancer\n",
    "A[state_indices['Biopsy'], state_indices['LostFollowUp']] = 0.2  # 20% are lost to follow-up\n",
    "\n",
    "# Absorbing states\n",
    "A[state_indices['Diagnosis'], state_indices['Diagnosis']] = 1.0\n",
    "A[state_indices['LostFollowUp'], state_indices['LostFollowUp']] = 1.0\n"
   ]
  },
  {
   "cell_type": "code",
   "execution_count": 8,
   "metadata": {},
   "outputs": [
    {
     "name": "stdout",
     "output_type": "stream",
     "text": [
      "Observation Indices: {'Cough': 0, 'PhysicianEncounter': 1, 'NoAction': 2, 'ImagingPerformed': 3, 'NoduleFound': 4, 'BiopsyPerformed': 5, 'CancerDiagnosed': 6, 'NoObservation': 7}\n"
     ]
    }
   ],
   "source": [
    "# Observations\n",
    "observations = ['Cough', 'PhysicianEncounter', 'NoAction', 'ImagingPerformed', 'NoduleFound', 'BiopsyPerformed', 'CancerDiagnosed', 'NoObservation']\n",
    "observation_indices = {obs: idx for idx, obs in enumerate(observations)}\n",
    "num_observations = len(observations)\n",
    "print(\"Observation Indices:\", observation_indices)\n"
   ]
  },
  {
   "cell_type": "code",
   "execution_count": 10,
   "metadata": {},
   "outputs": [],
   "source": [
    "# Initialize emission probability matrix with zeros\n",
    "B = np.zeros((num_states, num_observations))\n",
    "\n",
    "# Define emissions\n",
    "B[state_indices['Symptoms'], observation_indices['Cough']] = 1.0\n",
    "B[state_indices['PrimaryCare'], observation_indices['PhysicianEncounter']] = 1.0\n",
    "B[state_indices['WatchWait'], observation_indices['NoAction']] = 1.0\n",
    "B[state_indices['ChestXRay'], observation_indices['ImagingPerformed']] = 1.0\n",
    "B[state_indices['NoduleDetected'], observation_indices['NoduleFound']] = 1.0\n",
    "B[state_indices['Biopsy'], observation_indices['BiopsyPerformed']] = 1.0\n",
    "B[state_indices['Diagnosis'], observation_indices['CancerDiagnosed']] = 1.0\n",
    "B[state_indices['LostFollowUp'], observation_indices['NoObservation']] = 1.0\n"
   ]
  },
  {
   "cell_type": "code",
   "execution_count": 12,
   "metadata": {},
   "outputs": [],
   "source": [
    "def simulate_patient_journey_with_time(A, B, start_state, max_steps=20):\n",
    "    current_state = start_state\n",
    "    states_visited = [current_state]\n",
    "    observations_made = []\n",
    "    time_spent = []\n",
    "    total_time = 0\n",
    "    \n",
    "    for _ in range(max_steps):\n",
    "        # Generate observation\n",
    "        obs_probs = B[current_state]\n",
    "        observation = np.random.choice(range(num_observations), p=obs_probs)\n",
    "        observations_made.append(observation)\n",
    "        \n",
    "        # Add time spent in current state\n",
    "        duration = state_durations[states[current_state]]()\n",
    "        duration = max(0, duration)  # Ensure non-negative time\n",
    "        time_spent.append(duration)\n",
    "        total_time += duration\n",
    "        \n",
    "        # Check if current state is absorbing\n",
    "        if A[current_state, current_state] == 1.0:\n",
    "            break  # Absorbing state reached\n",
    "        \n",
    "        # Transition to next state\n",
    "        trans_probs = A[current_state]\n",
    "        next_state = np.random.choice(range(num_states), p=trans_probs)\n",
    "        states_visited.append(next_state)\n",
    "        current_state = next_state\n",
    "        \n",
    "    return states_visited, observations_made, time_spent, total_time\n"
   ]
  },
  {
   "cell_type": "code",
   "execution_count": 22,
   "metadata": {},
   "outputs": [
    {
     "name": "stdout",
     "output_type": "stream",
     "text": [
      "States Visited:\n",
      " - Symptoms (Time spent: 0.22 days)\n",
      " - PrimaryCare (Time spent: 1.21 days)\n",
      " - ChestXRay (Time spent: 9.19 days)\n",
      " - NoduleDetected (Time spent: 1.90 days)\n",
      " - Biopsy (Time spent: 19.26 days)\n",
      " - Diagnosis (Time spent: 0.00 days)\n",
      "\n",
      "Total Time to Absorbing State: 31.78 days\n",
      "\n",
      "Observations Made:\n",
      " - Cough\n",
      " - PhysicianEncounter\n",
      " - ImagingPerformed\n",
      " - NoduleFound\n",
      " - BiopsyPerformed\n",
      " - CancerDiagnosed\n"
     ]
    }
   ],
   "source": [
    "# Simulate a patient journey starting from 'Symptoms'\n",
    "start_state = state_indices['Symptoms']\n",
    "states_visited, observations_made, time_spent, total_time = simulate_patient_journey_with_time(A, B, start_state)\n",
    "\n",
    "# Convert indices back to names\n",
    "visited_states_names = [states[idx] for idx in states_visited]\n",
    "observations_names = [observations[idx] for idx in observations_made]\n",
    "\n",
    "print(\"States Visited:\")\n",
    "for idx, state in enumerate(visited_states_names):\n",
    "    print(f\" - {state} (Time spent: {time_spent[idx]:.2f} days)\")\n",
    "\n",
    "print(f\"\\nTotal Time to Absorbing State: {total_time:.2f} days\")\n",
    "\n",
    "print(\"\\nObservations Made:\")\n",
    "for obs in observations_names:\n",
    "    print(f\" - {obs}\")\n"
   ]
  },
  {
   "cell_type": "code",
   "execution_count": 23,
   "metadata": {},
   "outputs": [
    {
     "data": {
      "text/plain": [
       "[0.21785643847271968,\n",
       " 1.2101598041232482,\n",
       " 9.194486003619012,\n",
       " 1.898793509634749,\n",
       " 19.260048576950236,\n",
       " 0]"
      ]
     },
     "execution_count": 23,
     "metadata": {},
     "output_type": "execute_result"
    }
   ],
   "source": [
    "time_spent"
   ]
  },
  {
   "cell_type": "code",
   "execution_count": null,
   "metadata": {},
   "outputs": [],
   "source": []
  },
  {
   "cell_type": "code",
   "execution_count": null,
   "metadata": {},
   "outputs": [],
   "source": []
  }
 ],
 "metadata": {
  "kernelspec": {
   "display_name": ".venv",
   "language": "python",
   "name": "python3"
  },
  "language_info": {
   "codemirror_mode": {
    "name": "ipython",
    "version": 3
   },
   "file_extension": ".py",
   "mimetype": "text/x-python",
   "name": "python",
   "nbconvert_exporter": "python",
   "pygments_lexer": "ipython3",
   "version": "3.11.6"
  }
 },
 "nbformat": 4,
 "nbformat_minor": 2
}
